{
  "cells": [
    {
      "cell_type": "markdown",
      "metadata": {
        "id": "rcdxWeUM-VMV"
      },
      "source": [
        "# Faiss-gpuはどれぐらい速いのかcolabで試してみた"
      ]
    },
    {
      "cell_type": "markdown",
      "metadata": {
        "id": "ERcABdQUBKxt"
      },
      "source": [
        "Googleから[ScaNN](https://github.com/google-research/google-research/tree/master/scann) (Scalable Nearest Neighbors)というベクトル近似近傍検索が出て、速さを売りにしています。確かに[ベンチマーク](http://ann-benchmarks.com)でも結果がでています。ただ、このベンチマーク、CPUオンリーで、GPUを使う近傍検索との比較がありません。GPUが使えるといえば、[Faiss](https://github.com/facebookresearch/faiss)ですね。というわけで、早速、GPUが使えるcolabで測定してみましょう。\n",
        "結論を先に言うと、GPUすごく速いです。\n",
        "\n",
        "と、その前に、ランタイムはまだGPUにしないでください。途中で切り替えないとうまく実行できません。最初はランタイムNoneで進めてください。"
      ]
    },
    {
      "cell_type": "markdown",
      "metadata": {
        "id": "e-5zWqpiELt7"
      },
      "source": [
        "## データの取得\n",
        "評価の対象とするデータは[ann-benchmarks](http://ann-benchmarks.com/)のglove-100-angularを使います。これ、Faissの中の人によると[ScaNNに有利なデータ分布](https://github.com/facebookresearch/faiss/wiki/Indexing-1M-vectors#4-bit-pq-comparison-with-scann)だそうなのですが、まあ、いいでしょう。"
      ]
    },
    {
      "cell_type": "code",
      "execution_count": 2,
      "metadata": {
        "colab": {
          "base_uri": "https://localhost:8080/"
        },
        "id": "iwiigDZCTW6Q",
        "outputId": "ebea79c0-9c77-4f10-92b0-4925c5b13593"
      },
      "outputs": [
        {
          "name": "stdout",
          "output_type": "stream",
          "text": [
            "--2022-10-20 10:33:33--  http://ann-benchmarks.com/glove-100-angular.hdf5\n",
            "Resolving ann-benchmarks.com (ann-benchmarks.com)... 54.231.201.245\n",
            "Connecting to ann-benchmarks.com (ann-benchmarks.com)|54.231.201.245|:80... connected.\n",
            "HTTP request sent, awaiting response... 200 OK\n",
            "Length: 485413888 (463M) [binary/octet-stream]\n",
            "Saving to: ‘glove-100-angular.hdf5’\n",
            "\n",
            "glove-100-angular.h 100%[===================>] 462.93M  12.4MB/s    in 38s     \n",
            "\n",
            "2022-10-20 10:34:12 (12.2 MB/s) - ‘glove-100-angular.hdf5’ saved [485413888/485413888]\n",
            "\n"
          ]
        }
      ],
      "source": [
        "!wget http://ann-benchmarks.com/glove-100-angular.hdf5"
      ]
    },
    {
      "cell_type": "markdown",
      "metadata": {
        "id": "l2yjcMfXHgTO"
      },
      "source": [
        "検索対象のデータは100次元で約100万件、クエリーデータは1万件です。neighborsに正解が入ります。"
      ]
    },
    {
      "cell_type": "code",
      "execution_count": 3,
      "metadata": {
        "colab": {
          "base_uri": "https://localhost:8080/"
        },
        "id": "2pmfUp72ThPk",
        "outputId": "b3067f45-fcac-4fb9-a7aa-fa5363f80c96"
      },
      "outputs": [
        {
          "name": "stdout",
          "output_type": "stream",
          "text": [
            "dataset (1183514, 100)\n",
            "queries (10000, 100)\n",
            "true_neighbors (10000, 100)\n"
          ]
        }
      ],
      "source": [
        "import numpy as np\n",
        "import time\n",
        "import h5py\n",
        "\n",
        "glove_h5py = h5py.File('glove-100-angular.hdf5')\n",
        "dataset = glove_h5py['train']\n",
        "queries = glove_h5py['test']\n",
        "neighbors = glove_h5py['neighbors']\n",
        "print(\"dataset\", dataset.shape)\n",
        "print(\"queries\", queries.shape)\n",
        "print(\"true_neighbors\", neighbors.shape)"
      ]
    },
    {
      "cell_type": "markdown",
      "metadata": {
        "id": "jCgACAmMQeHg"
      },
      "source": [
        "なぜかデータを正規化しておかないとScaNNで上手く動きません。この辺りはよく分かっていませんが、ここでは追求せず先に進みます。"
      ]
    },
    {
      "cell_type": "code",
      "execution_count": 4,
      "metadata": {
        "id": "EFqvly6L5yIF"
      },
      "outputs": [],
      "source": [
        "normalized_dataset = dataset / np.linalg.norm(dataset, axis=1)[:, np.newaxis]"
      ]
    },
    {
      "cell_type": "markdown",
      "metadata": {
        "id": "ZMyo2pGMQ59C"
      },
      "source": [
        "再現率を計算する関数を作っておきましょう。"
      ]
    },
    {
      "cell_type": "code",
      "execution_count": 5,
      "metadata": {
        "id": "vS4uqaJz2KbJ"
      },
      "outputs": [],
      "source": [
        "def compute_recall(neighbors, true_neighbors):\n",
        "    total = 0\n",
        "    for gt_row, row in zip(true_neighbors, neighbors):\n",
        "        total += np.intersect1d(gt_row, row).shape[0]\n",
        "    return total / true_neighbors.size"
      ]
    },
    {
      "cell_type": "markdown",
      "metadata": {
        "id": "D4hE7ulbKvK_"
      },
      "source": [
        "## ScaNN (CPU)"
      ]
    },
    {
      "cell_type": "markdown",
      "metadata": {
        "id": "i454_dVhT6uh"
      },
      "source": [
        "Faissと対比するため、先にScaNNで測定します。まずはインストール"
      ]
    },
    {
      "cell_type": "code",
      "execution_count": 5,
      "metadata": {
        "colab": {
          "base_uri": "https://localhost:8080/"
        },
        "id": "MXU5T6d8uboe",
        "outputId": "98d6ef4a-fa5b-4614-e8a8-9906281b6694"
      },
      "outputs": [
        {
          "name": "stdout",
          "output_type": "stream",
          "text": [
            "\u001b[K     |████████████████████████████████| 10.4 MB 5.3 MB/s \n",
            "\u001b[K     |████████████████████████████████| 578.0 MB 14 kB/s \n",
            "\u001b[K     |████████████████████████████████| 438 kB 69.1 MB/s \n",
            "\u001b[K     |████████████████████████████████| 1.7 MB 45.3 MB/s \n",
            "\u001b[K     |████████████████████████████████| 5.9 MB 35.6 MB/s \n",
            "\u001b[?25h"
          ]
        }
      ],
      "source": [
        "!pip install scann --quiet\n",
        "import scann"
      ]
    },
    {
      "cell_type": "markdown",
      "metadata": {
        "id": "9dSeSab-Vwmx"
      },
      "source": [
        "最初に総当たりのモデルを作成します。これは一瞬ですね。"
      ]
    },
    {
      "cell_type": "code",
      "execution_count": 6,
      "metadata": {
        "colab": {
          "base_uri": "https://localhost:8080/"
        },
        "id": "lKKTp4xoun4b",
        "outputId": "644d7895-0add-496f-a403-5c3a72ee392e"
      },
      "outputs": [
        {
          "name": "stdout",
          "output_type": "stream",
          "text": [
            "CPU times: user 253 ms, sys: 495 ms, total: 748 ms\n",
            "Wall time: 739 ms\n"
          ]
        }
      ],
      "source": [
        "%%time\n",
        "scann_brute = scann.scann_ops_pybind.builder(normalized_dataset, 10, \"dot_product\").score_brute_force().build()"
      ]
    },
    {
      "cell_type": "markdown",
      "metadata": {
        "id": "K-khH1O9YPcJ"
      },
      "source": [
        "処理時間37秒。あたりまえですが、再現率100%。上手く処理できていることが確認できました。"
      ]
    },
    {
      "cell_type": "code",
      "execution_count": 8,
      "metadata": {
        "colab": {
          "base_uri": "https://localhost:8080/"
        },
        "id": "FI5wdvI-3Vyv",
        "outputId": "81ddc37b-e0f9-4b3a-d53e-e580f6366bd3"
      },
      "outputs": [
        {
          "name": "stdout",
          "output_type": "stream",
          "text": [
            "37.05260634422302 sec\n"
          ]
        },
        {
          "data": {
            "text/plain": [
              "1.0"
            ]
          },
          "execution_count": 8,
          "metadata": {},
          "output_type": "execute_result"
        }
      ],
      "source": [
        "start = time.time()\n",
        "scann_brute_ans = scann_brute.search_batched(queries, 10)\n",
        "print(time.time() - start, \"sec\")\n",
        "compute_recall(scann_brute_ans[0], neighbors[:, :10])"
      ]
    },
    {
      "cell_type": "markdown",
      "metadata": {
        "id": "OkfgC9zZaSzV"
      },
      "source": [
        "次に、近似で検索速度重視のモデルを作ります。これは1分半ほど時間がかかります。"
      ]
    },
    {
      "cell_type": "code",
      "execution_count": 9,
      "metadata": {
        "colab": {
          "base_uri": "https://localhost:8080/"
        },
        "id": "cfsXKgx-zcC8",
        "outputId": "bcfb3d55-e89e-46b3-c67b-aa724207778b"
      },
      "outputs": [
        {
          "name": "stdout",
          "output_type": "stream",
          "text": [
            "CPU times: user 2min 34s, sys: 1.43 s, total: 2min 36s\n",
            "Wall time: 1min 26s\n"
          ]
        }
      ],
      "source": [
        "%%time\n",
        "scann_searcher = scann.scann_ops_pybind.builder(normalized_dataset, 10, \"dot_product\").tree(\n",
        "    num_leaves=2000, num_leaves_to_search=100, training_sample_size=250000).score_ah(\n",
        "    2, anisotropic_quantization_threshold=0.2).reorder(100).build()"
      ]
    },
    {
      "cell_type": "markdown",
      "metadata": {
        "id": "VLYrH0Oraqcm"
      },
      "source": [
        "処理時間は3.2秒、再現率は90%でした。"
      ]
    },
    {
      "cell_type": "code",
      "execution_count": 10,
      "metadata": {
        "colab": {
          "base_uri": "https://localhost:8080/"
        },
        "id": "xvpEmMtGcJho",
        "outputId": "ca3016f4-4ef4-4205-d824-453ac0c5ebed"
      },
      "outputs": [
        {
          "name": "stdout",
          "output_type": "stream",
          "text": [
            "3.2482008934020996 sec\n"
          ]
        },
        {
          "data": {
            "text/plain": [
              "0.90015"
            ]
          },
          "execution_count": 10,
          "metadata": {},
          "output_type": "execute_result"
        }
      ],
      "source": [
        "start = time.time()\n",
        "I, D = scann_searcher.search_batched(queries)\n",
        "print(time.time() - start, \"sec\")\n",
        "compute_recall(I, neighbors[:, :10])"
      ]
    },
    {
      "cell_type": "markdown",
      "metadata": {
        "id": "-e0KB_uibf9L"
      },
      "source": [
        "leaves_to_searchを指定すると、検索打ち切りまでの範囲を広げられるようです。これで処理時間が3.4秒。再現率が92%です。"
      ]
    },
    {
      "cell_type": "code",
      "execution_count": 11,
      "metadata": {
        "colab": {
          "base_uri": "https://localhost:8080/"
        },
        "id": "8I8ZXDwLhBbV",
        "outputId": "ef618326-9a8a-4717-8c33-e089981efdee"
      },
      "outputs": [
        {
          "name": "stdout",
          "output_type": "stream",
          "text": [
            "3.4121041297912598 sec\n"
          ]
        },
        {
          "data": {
            "text/plain": [
              "0.92392"
            ]
          },
          "execution_count": 11,
          "metadata": {},
          "output_type": "execute_result"
        }
      ],
      "source": [
        "start = time.time()\n",
        "scann_searcher_ans = scann_searcher.search_batched(queries, leaves_to_search=150)\n",
        "print(time.time() - start, \"sec\")\n",
        "compute_recall(scann_searcher_ans[0], neighbors[:, :10])"
      ]
    },
    {
      "cell_type": "markdown",
      "metadata": {
        "id": "kLkRcxlrc9pv"
      },
      "source": [
        "pre_reorder_num_neighborsを設定しても、同様な効果があるそうです。処理時間が4.2秒。再現率が93%です。"
      ]
    },
    {
      "cell_type": "code",
      "execution_count": 12,
      "metadata": {
        "colab": {
          "base_uri": "https://localhost:8080/"
        },
        "id": "ubNb88eihSIc",
        "outputId": "f9d0da70-a5f4-43cc-8045-f449fa631cb4"
      },
      "outputs": [
        {
          "name": "stdout",
          "output_type": "stream",
          "text": [
            "4.178981065750122 sec\n"
          ]
        },
        {
          "data": {
            "text/plain": [
              "0.93145"
            ]
          },
          "execution_count": 12,
          "metadata": {},
          "output_type": "execute_result"
        }
      ],
      "source": [
        "start = time.time()\n",
        "scann_searcher_ans = scann_searcher.search_batched(queries, leaves_to_search=150, pre_reorder_num_neighbors=250)\n",
        "print(time.time() - start, \"sec\")\n",
        "compute_recall(scann_searcher_ans[0], neighbors[:, :10])"
      ]
    },
    {
      "cell_type": "markdown",
      "metadata": {
        "id": "bZaRQLd5dk4V"
      },
      "source": [
        "## Faiss (CPU)"
      ]
    },
    {
      "cell_type": "markdown",
      "metadata": {
        "id": "30ThdTd4drvU"
      },
      "source": [
        "CPU版のFaissをインストールします。ランタイムのタイプをGPUにしていると、このインストールが失敗します。"
      ]
    },
    {
      "cell_type": "code",
      "execution_count": 13,
      "metadata": {
        "colab": {
          "base_uri": "https://localhost:8080/"
        },
        "id": "NsAcTmeHF0WZ",
        "outputId": "a3d497c3-ef9f-41aa-c13b-83da745d81ff"
      },
      "outputs": [
        {
          "name": "stdout",
          "output_type": "stream",
          "text": [
            "Reading package lists... Done\n",
            "Building dependency tree       \n",
            "Reading state information... Done\n",
            "The following package was automatically installed and is no longer required:\n",
            "  libnvidia-common-460\n",
            "Use 'apt autoremove' to remove it.\n",
            "The following additional packages will be installed:\n",
            "  libomp5\n",
            "Suggested packages:\n",
            "  libomp-doc\n",
            "The following NEW packages will be installed:\n",
            "  libomp-dev libomp5\n",
            "0 upgraded, 2 newly installed, 0 to remove and 22 not upgraded.\n",
            "Need to get 239 kB of archives.\n",
            "After this operation, 804 kB of additional disk space will be used.\n",
            "Get:1 http://archive.ubuntu.com/ubuntu bionic/universe amd64 libomp5 amd64 5.0.1-1 [234 kB]\n",
            "Get:2 http://archive.ubuntu.com/ubuntu bionic/universe amd64 libomp-dev amd64 5.0.1-1 [5,088 B]\n",
            "Fetched 239 kB in 1s (292 kB/s)\n",
            "Selecting previously unselected package libomp5:amd64.\n",
            "(Reading database ... 123941 files and directories currently installed.)\n",
            "Preparing to unpack .../libomp5_5.0.1-1_amd64.deb ...\n",
            "Unpacking libomp5:amd64 (5.0.1-1) ...\n",
            "Selecting previously unselected package libomp-dev.\n",
            "Preparing to unpack .../libomp-dev_5.0.1-1_amd64.deb ...\n",
            "Unpacking libomp-dev (5.0.1-1) ...\n",
            "Setting up libomp5:amd64 (5.0.1-1) ...\n",
            "Setting up libomp-dev (5.0.1-1) ...\n",
            "Processing triggers for libc-bin (2.27-3ubuntu1.6) ...\n",
            "Looking in indexes: https://pypi.org/simple, https://us-python.pkg.dev/colab-wheels/public/simple/\n",
            "Collecting faiss\n",
            "  Downloading faiss-1.5.3-cp37-cp37m-manylinux1_x86_64.whl (4.7 MB)\n",
            "\u001b[K     |████████████████████████████████| 4.7 MB 5.0 MB/s \n",
            "\u001b[?25hRequirement already satisfied: numpy in /usr/local/lib/python3.7/dist-packages (from faiss) (1.21.6)\n",
            "Installing collected packages: faiss\n",
            "Successfully installed faiss-1.5.3\n"
          ]
        }
      ],
      "source": [
        "!apt install libomp-dev\n",
        "!pip install faiss -U\n",
        "import faiss"
      ]
    },
    {
      "cell_type": "markdown",
      "metadata": {
        "id": "m3MhIjJ8mlTm"
      },
      "source": [
        "総当たり用のモデルを作成します。"
      ]
    },
    {
      "cell_type": "code",
      "execution_count": 14,
      "metadata": {
        "colab": {
          "base_uri": "https://localhost:8080/"
        },
        "id": "7nQpUPecF_Wd",
        "outputId": "a19b5f31-b706-48ba-ceb0-d5829b604939"
      },
      "outputs": [
        {
          "name": "stdout",
          "output_type": "stream",
          "text": [
            "CPU times: user 342 ms, sys: 121 ms, total: 463 ms\n",
            "Wall time: 466 ms\n"
          ]
        }
      ],
      "source": [
        "%%time\n",
        "index = faiss.IndexFlatIP(100)\n",
        "index.add(normalized_dataset)"
      ]
    },
    {
      "cell_type": "markdown",
      "metadata": {
        "id": "vbfugTcAmte_"
      },
      "source": [
        "総当たりで検索します。再現率100%で処理時間は87秒です。処理自体は上手く行っています。ただ処理時間はScaNNの2倍です。ScaNNはCPUに特化しているためか、実装に注力しているようです。"
      ]
    },
    {
      "cell_type": "code",
      "execution_count": 15,
      "metadata": {
        "colab": {
          "base_uri": "https://localhost:8080/"
        },
        "id": "v1EUu8i8I06U",
        "outputId": "770a033e-3c53-49d9-eb94-874534acb4a2"
      },
      "outputs": [
        {
          "name": "stdout",
          "output_type": "stream",
          "text": [
            "86.79835033416748 sec\n"
          ]
        },
        {
          "data": {
            "text/plain": [
              "1.0"
            ]
          },
          "execution_count": 15,
          "metadata": {},
          "output_type": "execute_result"
        }
      ],
      "source": [
        "start = time.time()\n",
        "faiss_brute_ans = index.search(np.array(queries), 10)\n",
        "print(time.time() - start, \"sec\")\n",
        "compute_recall(faiss_brute_ans[1], neighbors[:, :10])"
      ]
    },
    {
      "cell_type": "markdown",
      "metadata": {
        "id": "2dLI0tVUof1N"
      },
      "source": [
        "チュートリアルに記載されていたIndexIVFFlatというモデルを作ります。"
      ]
    },
    {
      "cell_type": "code",
      "execution_count": 16,
      "metadata": {
        "colab": {
          "base_uri": "https://localhost:8080/"
        },
        "id": "6uID537-GzNQ",
        "outputId": "60befb52-a1b5-431f-a1d0-1c03978993e9"
      },
      "outputs": [
        {
          "name": "stdout",
          "output_type": "stream",
          "text": [
            "CPU times: user 3.9 s, sys: 1.04 s, total: 4.94 s\n",
            "Wall time: 3.04 s\n"
          ]
        }
      ],
      "source": [
        "%%time\n",
        "nlist = 100\n",
        "quantizer = faiss.IndexFlatIP(100)\n",
        "index = faiss.IndexIVFFlat(quantizer, 100, nlist, faiss.METRIC_INNER_PRODUCT)\n",
        "index.train(normalized_dataset)\n",
        "index.add(normalized_dataset)"
      ]
    },
    {
      "cell_type": "markdown",
      "metadata": {
        "id": "baMSt72co9kn"
      },
      "source": [
        "デフォルトの状態での検索は、5.3秒で再現率は53%です。"
      ]
    },
    {
      "cell_type": "code",
      "execution_count": 17,
      "metadata": {
        "colab": {
          "base_uri": "https://localhost:8080/"
        },
        "id": "TLMSnHFZG0d9",
        "outputId": "5252407a-45dd-4e9b-cb2c-745e50befc3d"
      },
      "outputs": [
        {
          "name": "stdout",
          "output_type": "stream",
          "text": [
            "5.289741277694702 sec\n"
          ]
        },
        {
          "data": {
            "text/plain": [
              "0.53363"
            ]
          },
          "execution_count": 17,
          "metadata": {},
          "output_type": "execute_result"
        }
      ],
      "source": [
        "start = time.time()\n",
        "faiss_searcher_ans = index.search(np.array(queries), 10)\n",
        "print(time.time() - start, \"sec\")\n",
        "compute_recall(faiss_searcher_ans[1], neighbors[:, :10])"
      ]
    },
    {
      "cell_type": "markdown",
      "metadata": {
        "id": "t8lVcEEepitU"
      },
      "source": [
        "検索範囲を広げると再現率は83%になりましたが、処理時間が27.6秒です。"
      ]
    },
    {
      "cell_type": "code",
      "execution_count": 18,
      "metadata": {
        "colab": {
          "base_uri": "https://localhost:8080/"
        },
        "id": "8SY79hoTITkQ",
        "outputId": "1f742058-861b-48b6-93a8-31e12929e6c9"
      },
      "outputs": [
        {
          "name": "stdout",
          "output_type": "stream",
          "text": [
            "27.606809616088867 sec\n"
          ]
        },
        {
          "data": {
            "text/plain": [
              "0.82666"
            ]
          },
          "execution_count": 18,
          "metadata": {},
          "output_type": "execute_result"
        }
      ],
      "source": [
        "index.nprobe = 5\n",
        "start = time.time()\n",
        "faiss_searcher_ans = index.search(np.array(queries), 10)\n",
        "print(time.time() - start, \"sec\")\n",
        "compute_recall(faiss_searcher_ans[1], neighbors[:, :10])"
      ]
    },
    {
      "cell_type": "code",
      "execution_count": 19,
      "metadata": {
        "colab": {
          "base_uri": "https://localhost:8080/"
        },
        "id": "b6RzLZWoq-Z_",
        "outputId": "c2f09675-e717-489e-b733-20e58f221e34"
      },
      "outputs": [
        {
          "name": "stdout",
          "output_type": "stream",
          "text": [
            "48.293612003326416 sec\n"
          ]
        },
        {
          "data": {
            "text/plain": [
              "0.90237"
            ]
          },
          "execution_count": 19,
          "metadata": {},
          "output_type": "execute_result"
        }
      ],
      "source": [
        "index.nprobe = 10\n",
        "start = time.time()\n",
        "faiss_searcher_ans = index.search(np.array(queries), 10)\n",
        "print(time.time() - start, \"sec\")\n",
        "compute_recall(faiss_searcher_ans[1], neighbors[:, :10])"
      ]
    },
    {
      "cell_type": "code",
      "execution_count": 20,
      "metadata": {
        "colab": {
          "base_uri": "https://localhost:8080/"
        },
        "id": "x_JUaOCAIdHn",
        "outputId": "25baaa36-d449-48b1-8ffa-f017f0176d83"
      },
      "outputs": [
        {
          "name": "stdout",
          "output_type": "stream",
          "text": [
            "78.04950618743896 sec\n"
          ]
        },
        {
          "data": {
            "text/plain": [
              "0.93486"
            ]
          },
          "execution_count": 20,
          "metadata": {},
          "output_type": "execute_result"
        }
      ],
      "source": [
        "index.nprobe = 15\n",
        "start = time.time()\n",
        "faiss_searcher_ans = index.search(np.array(queries), 10)\n",
        "print(time.time() - start, \"sec\")\n",
        "compute_recall(faiss_searcher_ans[1], neighbors[:, :10])"
      ]
    },
    {
      "cell_type": "code",
      "execution_count": 21,
      "metadata": {
        "colab": {
          "base_uri": "https://localhost:8080/"
        },
        "id": "xK7_TdTUsfm-",
        "outputId": "90596737-5476-42ec-fb07-681d4284a5b8"
      },
      "outputs": [
        {
          "name": "stdout",
          "output_type": "stream",
          "text": [
            "96.26129055023193 sec\n"
          ]
        },
        {
          "data": {
            "text/plain": [
              "0.95453"
            ]
          },
          "execution_count": 21,
          "metadata": {},
          "output_type": "execute_result"
        }
      ],
      "source": [
        "index.nprobe = 20\n",
        "start = time.time()\n",
        "faiss_searcher_ans = index.search(np.array(queries), 10)\n",
        "print(time.time() - start, \"sec\")\n",
        "compute_recall(faiss_searcher_ans[1], neighbors[:, :10])"
      ]
    },
    {
      "cell_type": "markdown",
      "metadata": {
        "id": "tncpEWekqKEw"
      },
      "source": [
        "検索対象の向き不向きがあるとはいえ、CPUではScaNNのほうがFaissより高速なようです。同程度の再現率で10~20倍もの処理時間の差がある感じです。"
      ]
    },
    {
      "cell_type": "markdown",
      "metadata": {
        "id": "LSqA5j_MqEwv"
      },
      "source": [
        "## Faiss (GPU)"
      ]
    },
    {
      "cell_type": "markdown",
      "metadata": {
        "id": "0k1HhZuEroIP"
      },
      "source": [
        "ここで、ランタイムのタイプをGPUに切り替えてください。切り替えるとランタイムが再起動してしまいます。再起動したら記事冒頭に戻って、「データの取得」の4つのセルを再実行してください。"
      ]
    },
    {
      "cell_type": "markdown",
      "metadata": {
        "id": "cE9xW4elsH0k"
      },
      "source": [
        "まずインストール"
      ]
    },
    {
      "cell_type": "code",
      "execution_count": 1,
      "metadata": {
        "colab": {
          "base_uri": "https://localhost:8080/"
        },
        "id": "wIa8QhIGtWHC",
        "outputId": "7a542465-a68e-4037-cf3b-db635e830e02"
      },
      "outputs": [
        {
          "name": "stdout",
          "output_type": "stream",
          "text": [
            "Looking in indexes: https://pypi.org/simple, https://us-python.pkg.dev/colab-wheels/public/simple/\n",
            "Collecting faiss-gpu\n",
            "  Downloading faiss_gpu-1.7.2-cp37-cp37m-manylinux_2_17_x86_64.manylinux2014_x86_64.whl (85.5 MB)\n",
            "\u001b[K     |████████████████████████████████| 85.5 MB 96 kB/s \n",
            "\u001b[?25hInstalling collected packages: faiss-gpu\n",
            "Successfully installed faiss-gpu-1.7.2\n"
          ]
        }
      ],
      "source": [
        "!pip install faiss-gpu -U\n",
        "import faiss"
      ]
    },
    {
      "cell_type": "markdown",
      "metadata": {
        "id": "Qeb5TKl8sYDx"
      },
      "source": [
        "総当たりのモデルの作成は一瞬です。"
      ]
    },
    {
      "cell_type": "code",
      "execution_count": 6,
      "metadata": {
        "colab": {
          "base_uri": "https://localhost:8080/"
        },
        "id": "Gn8VhP4-tfmW",
        "outputId": "3dd6d523-40bc-4e3a-dfda-c8eababcc4a0"
      },
      "outputs": [
        {
          "name": "stdout",
          "output_type": "stream",
          "text": [
            "CPU times: user 326 ms, sys: 359 ms, total: 684 ms\n",
            "Wall time: 745 ms\n"
          ]
        }
      ],
      "source": [
        "%%time\n",
        "res = faiss.StandardGpuResources()\n",
        "index_flat = faiss.IndexFlatIP(100)\n",
        "gpu_index_flat = faiss.index_cpu_to_gpu(res, 0, index_flat)\n",
        "gpu_index_flat.add(normalized_dataset)"
      ]
    },
    {
      "cell_type": "markdown",
      "metadata": {
        "id": "stVQcsuysiDQ"
      },
      "source": [
        "総当たりの時間は1.1秒です。CPUでは87秒かかっていましたから、80倍高速です。"
      ]
    },
    {
      "cell_type": "code",
      "execution_count": 7,
      "metadata": {
        "colab": {
          "base_uri": "https://localhost:8080/"
        },
        "id": "Xb_GrsWDuV6w",
        "outputId": "1374bd68-c062-4550-9fe5-9489d50b80a9"
      },
      "outputs": [
        {
          "name": "stdout",
          "output_type": "stream",
          "text": [
            "1.0996243953704834 sec\n"
          ]
        },
        {
          "data": {
            "text/plain": [
              "1.0"
            ]
          },
          "execution_count": 7,
          "metadata": {},
          "output_type": "execute_result"
        }
      ],
      "source": [
        "start = time.time()\n",
        "faiss_brute_ans = gpu_index_flat.search(np.array(queries), 10)\n",
        "print(time.time() - start, \"sec\")\n",
        "compute_recall(faiss_brute_ans[1], neighbors[:, :10])"
      ]
    },
    {
      "cell_type": "markdown",
      "metadata": {
        "id": "fWr9bOhntKYo"
      },
      "source": [
        "IndexIVFFlatのモデルを作ってGPUに転送します。"
      ]
    },
    {
      "cell_type": "code",
      "execution_count": 8,
      "metadata": {
        "colab": {
          "base_uri": "https://localhost:8080/"
        },
        "id": "mfHdc2_4upWZ",
        "outputId": "5b4b0ff1-2c73-4e8f-be5a-37e0095b0022"
      },
      "outputs": [
        {
          "name": "stdout",
          "output_type": "stream",
          "text": [
            "CPU times: user 434 ms, sys: 53.5 ms, total: 488 ms\n",
            "Wall time: 429 ms\n"
          ]
        }
      ],
      "source": [
        "%%time\n",
        "nlist = 100\n",
        "quantizer = faiss.IndexFlatIP(100)\n",
        "index = faiss.IndexIVFFlat(quantizer, 100, nlist, faiss.METRIC_INNER_PRODUCT)\n",
        "gpu_index = faiss.index_cpu_to_gpu(res, 0, index)\n",
        "gpu_index.train(normalized_dataset)\n",
        "gpu_index.add(normalized_dataset)"
      ]
    },
    {
      "cell_type": "markdown",
      "metadata": {
        "id": "ZC_YtZmTtgZR"
      },
      "source": [
        "デフォルトで検索します。処理時間は0.2秒ですが、再現率が53%です。"
      ]
    },
    {
      "cell_type": "code",
      "execution_count": 9,
      "metadata": {
        "colab": {
          "base_uri": "https://localhost:8080/"
        },
        "id": "snFeHqDRvcbt",
        "outputId": "204dcace-1cd0-4509-b142-80319304bc60"
      },
      "outputs": [
        {
          "name": "stdout",
          "output_type": "stream",
          "text": [
            "0.21199655532836914 sec\n"
          ]
        },
        {
          "data": {
            "text/plain": [
              "0.53364"
            ]
          },
          "execution_count": 9,
          "metadata": {},
          "output_type": "execute_result"
        }
      ],
      "source": [
        "start = time.time()\n",
        "faiss_searcher_ans = gpu_index.search(np.array(queries), 10)\n",
        "print(time.time() - start, \"sec\")\n",
        "compute_recall(faiss_searcher_ans[1], neighbors[:, :10])"
      ]
    },
    {
      "cell_type": "markdown",
      "metadata": {
        "id": "iicit9f3t-rg"
      },
      "source": [
        "細かく検索範囲を広げて測定します。"
      ]
    },
    {
      "cell_type": "code",
      "execution_count": 10,
      "metadata": {
        "colab": {
          "base_uri": "https://localhost:8080/"
        },
        "id": "ELYmDXwhyqQm",
        "outputId": "bab473dc-425e-472b-80de-543f22043d38"
      },
      "outputs": [
        {
          "name": "stdout",
          "output_type": "stream",
          "text": [
            "0.4109320640563965 sec\n"
          ]
        },
        {
          "data": {
            "text/plain": [
              "0.67943"
            ]
          },
          "execution_count": 10,
          "metadata": {},
          "output_type": "execute_result"
        }
      ],
      "source": [
        "gpu_index.nprobe = 2\n",
        "start = time.time()\n",
        "faiss_searcher_ans = gpu_index.search(np.array(queries), 10)\n",
        "print(time.time() - start, \"sec\")\n",
        "compute_recall(faiss_searcher_ans[1], neighbors[:, :10])"
      ]
    },
    {
      "cell_type": "code",
      "execution_count": 11,
      "metadata": {
        "colab": {
          "base_uri": "https://localhost:8080/"
        },
        "id": "VGhV4qihyfgK",
        "outputId": "5acdddc1-5497-48fa-8f31-89cd4fb505e4"
      },
      "outputs": [
        {
          "name": "stdout",
          "output_type": "stream",
          "text": [
            "0.6033580303192139 sec\n"
          ]
        },
        {
          "data": {
            "text/plain": [
              "0.75168"
            ]
          },
          "execution_count": 11,
          "metadata": {},
          "output_type": "execute_result"
        }
      ],
      "source": [
        "gpu_index.nprobe = 3\n",
        "start = time.time()\n",
        "faiss_searcher_ans = gpu_index.search(np.array(queries), 10)\n",
        "print(time.time() - start, \"sec\")\n",
        "compute_recall(faiss_searcher_ans[1], neighbors[:, :10])"
      ]
    },
    {
      "cell_type": "code",
      "execution_count": 12,
      "metadata": {
        "colab": {
          "base_uri": "https://localhost:8080/"
        },
        "id": "2o9fZmyDv5BI",
        "outputId": "05c08a5d-466c-4c5f-aad9-0e916cb3c687"
      },
      "outputs": [
        {
          "name": "stdout",
          "output_type": "stream",
          "text": [
            "0.7939984798431396 sec\n"
          ]
        },
        {
          "data": {
            "text/plain": [
              "0.79683"
            ]
          },
          "execution_count": 12,
          "metadata": {},
          "output_type": "execute_result"
        }
      ],
      "source": [
        "gpu_index.nprobe = 4\n",
        "start = time.time()\n",
        "faiss_searcher_ans = gpu_index.search(np.array(queries), 10)\n",
        "print(time.time() - start, \"sec\")\n",
        "compute_recall(faiss_searcher_ans[1], neighbors[:, :10])"
      ]
    },
    {
      "cell_type": "code",
      "execution_count": 13,
      "metadata": {
        "colab": {
          "base_uri": "https://localhost:8080/"
        },
        "id": "Qv-wPC4NvidE",
        "outputId": "1eadf6ff-0a51-4742-dfbe-a3ffecb401cc"
      },
      "outputs": [
        {
          "name": "stdout",
          "output_type": "stream",
          "text": [
            "0.9845168590545654 sec\n"
          ]
        },
        {
          "data": {
            "text/plain": [
              "0.82667"
            ]
          },
          "execution_count": 13,
          "metadata": {},
          "output_type": "execute_result"
        }
      ],
      "source": [
        "gpu_index.nprobe = 5\n",
        "start = time.time()\n",
        "faiss_searcher_ans = gpu_index.search(np.array(queries), 10)\n",
        "print(time.time() - start, \"sec\")\n",
        "compute_recall(faiss_searcher_ans[1], neighbors[:, :10])"
      ]
    },
    {
      "cell_type": "code",
      "execution_count": 14,
      "metadata": {
        "colab": {
          "base_uri": "https://localhost:8080/"
        },
        "id": "oGwbymUHvw1x",
        "outputId": "ee350861-03c3-4a19-9e2e-286de6aa03e7"
      },
      "outputs": [
        {
          "name": "stdout",
          "output_type": "stream",
          "text": [
            "1.9291417598724365 sec\n"
          ]
        },
        {
          "data": {
            "text/plain": [
              "0.90238"
            ]
          },
          "execution_count": 14,
          "metadata": {},
          "output_type": "execute_result"
        }
      ],
      "source": [
        "gpu_index.nprobe = 10\n",
        "start = time.time()\n",
        "faiss_searcher_ans = gpu_index.search(np.array(queries), 10)\n",
        "print(time.time() - start, \"sec\")\n",
        "compute_recall(faiss_searcher_ans[1], neighbors[:, :10])"
      ]
    },
    {
      "cell_type": "markdown",
      "metadata": {
        "id": "OhG35doTuRxt"
      },
      "source": [
        "再現率90%で総当たりの処理時間を超えてしまいました。"
      ]
    },
    {
      "cell_type": "markdown",
      "metadata": {
        "id": "8CZ7O35SuiXi"
      },
      "source": [
        "GPUは確かに速いです。ただ、GPUのメモリに乗り切る規模であれば近似しないで総当たりするのが一番良いようです。"
      ]
    }
  ],
  "metadata": {
    "accelerator": "GPU",
    "colab": {
      "collapsed_sections": [],
      "provenance": [],
      "toc_visible": true
    },
    "kernelspec": {
      "display_name": "Python 3.9.13 64-bit",
      "language": "python",
      "name": "python3"
    },
    "language_info": {
      "name": "python",
      "version": "3.9.13"
    },
    "vscode": {
      "interpreter": {
        "hash": "aee8b7b246df8f9039afb4144a1f6fd8d2ca17a180786b69acc140d282b71a49"
      }
    }
  },
  "nbformat": 4,
  "nbformat_minor": 0
}
